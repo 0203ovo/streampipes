{
 "cells": [
  {
   "attachments": {},
   "cell_type": "markdown",
   "metadata": {},
   "source": [
    "# Using Online Maschine Learning on a StreamPipes data stream"
   ]
  },
  {
   "cell_type": "code",
   "execution_count": 1,
   "metadata": {},
   "outputs": [],
   "source": [
    "from streampipes_client.client import StreamPipesClient\n",
    "from streampipes_client.client.client_config import StreamPipesClientConfig\n",
    "from streampipes_client.client.credential_provider import StreamPipesApiKeyCredentials"
   ]
  },
  {
   "cell_type": "code",
   "execution_count": 2,
   "metadata": {},
   "outputs": [],
   "source": [
    "import os\n",
    "os.environ[\"USER\"] = \"admin@streampipes.apache.org\"\n",
    "os.environ[\"API-KEY\"] = \"XXX\"\n",
    "os.environ[\"BROKER-HOST\"] = \"localhost\""
   ]
  },
  {
   "cell_type": "code",
   "execution_count": 3,
   "metadata": {},
   "outputs": [
    {
     "name": "stdout",
     "output_type": "stream",
     "text": [
      "2023-01-24 09:30:03,771 - streampipes_client.client.client - [INFO] - [client.py:128] [_set_up_logging] - Logging successfully initialized with logging level INFO.\n"
     ]
    }
   ],
   "source": [
    "client_config = StreamPipesClientConfig(\n",
    "    credential_provider=StreamPipesApiKeyCredentials.from_env(username_env=\"USER\", api_key_env=\"API-KEY\"),\n",
    "    host_address=\"localhost\",\n",
    "    port=8082,\n",
    "    https_disabled=True\n",
    ")\n",
    "client = StreamPipesClient(client_config=client_config)"
   ]
  },
  {
   "cell_type": "code",
   "execution_count": null,
   "metadata": {},
   "outputs": [],
   "source": [
    "client.dataStreamApi.all().to_pandas()"
   ]
  },
  {
   "attachments": {},
   "cell_type": "markdown",
   "metadata": {},
   "source": [
    "## KMeans"
   ]
  },
  {
   "cell_type": "code",
   "execution_count": null,
   "metadata": {},
   "outputs": [
    {
     "name": "stdout",
     "output_type": "stream",
     "text": [
      "2023-01-20 10:44:33,514 - streampipes_client.endpoint.endpoint - [INFO] - [endpoint.py:165] [_make_request] - Successfully retrieved all resources.\n",
      "2023-01-20 10:44:33,515 - streampipes_client.functions.function_handler - [INFO] - [function_handler.py:82] [initializeFunctions] - Using NatsBroker for <streampipes_client.functions.machine_learning.river_function.RiverFunction object at 0x00000158F7BAA0B0>\n"
     ]
    },
    {
     "name": "stdout",
     "output_type": "stream",
     "text": [
      "2023-01-20 10:44:33,532 - streampipes_client.functions.broker.nats_broker - [INFO] - [nats_broker.py:50] [_makeConnection] - Connected to NATS at localhost:4222\n",
      "2023-01-20 10:44:33,532 - streampipes_client.functions.broker.nats_broker - [INFO] - [nats_broker.py:60] [_createSubscription] - Subscribed to stream: sp:spdatastream:xboBFK\n"
     ]
    }
   ],
   "source": [
    "from river import cluster, compose, preprocessing\n",
    "from streampipes_client.functions.machine_learning.river_function import OnlineMachineLearning\n",
    "from streampipes_client.functions.utils.function_config import FunctionId\n",
    "\n",
    "k_means = compose.Pipeline(\n",
    "    (\"drop_features\", compose.Discard(\"sensorId\", \"timestamp\")),\n",
    "    (\"scale\", preprocessing.StandardScaler()),\n",
    "    (\"k_means\", cluster.KMeans(n_clusters=2))\n",
    ")\n",
    "\n",
    "clustering = OnlineMachineLearning(\n",
    "    client=client, \n",
    "    function_id=FunctionId(\"org.examples.ClusteringFunction\", 1), \n",
    "    stream_ids=[\"sp:spdatastream:xboBFK\"],\n",
    "    model=k_means,\n",
    ")\n",
    "clustering.start()"
   ]
  },
  {
   "cell_type": "code",
   "execution_count": null,
   "metadata": {},
   "outputs": [],
   "source": [
    "clustering.set_learning(False)"
   ]
  },
  {
   "cell_type": "code",
   "execution_count": null,
   "metadata": {},
   "outputs": [
    {
     "name": "stdout",
     "output_type": "stream",
     "text": [
      "2023-01-20 10:45:01,660 - streampipes_client.functions.broker.nats_broker - [INFO] - [nats_broker.py:70] [disconnect] - Stopped connection to stream: sp:spdatastream:xboBFK\n"
     ]
    }
   ],
   "source": [
    "clustering.stop()"
   ]
  },
  {
   "attachments": {},
   "cell_type": "markdown",
   "metadata": {},
   "source": [
    "## HoeffdingTreeRegressor"
   ]
  },
  {
   "cell_type": "code",
   "execution_count": 31,
   "metadata": {},
   "outputs": [
    {
     "name": "stderr",
     "output_type": "stream",
     "text": [
      "\r\n",
      "(dot.exe:4996): Pango-WARNING **: couldn't load font \"trebuchet Not-Rotated 11\", falling back to \"Sans Not-Rotated 11\", expect ugly output.\r\n"
     ]
    },
    {
     "name": "stdout",
     "output_type": "stream",
     "text": [
      "learning\n"
     ]
    }
   ],
   "source": [
    "from IPython.display import clear_output\n",
    "from river import cluster, compose, preprocessing, tree\n",
    "from streampipes_client.functions.machine_learning.river_function import OnlineMachineLearning\n",
    "from streampipes_client.functions.utils.function_config import FunctionId\n",
    "\n",
    "hoeffding_tree = compose.Pipeline(\n",
    "    (\"drop_features\", compose.Discard(\"sensorId\", \"timestamp\")),\n",
    "    (\"hoeffding_tree\", tree.HoeffdingTreeRegressor(grace_period=5))\n",
    ")\n",
    "\n",
    "def draw_tree(self, event, streamId):\n",
    "    clear_output(wait=True)\n",
    "    if self.learning:\n",
    "        if self.model[1].n_nodes != None:\n",
    "            self.model[1].draw().render(\"hoeffding_tree\", format=\"png\", cleanup=True)\n",
    "            print(\"learning\")\n",
    "    else:\n",
    "        print(event)\n",
    "        print(f\"truth:      {event.pop(self.target_label)}\\nprediction: {self.model.predict_one(event)}\")\n",
    "\n",
    "regressor = OnlineMachineLearning(\n",
    "    client=client, \n",
    "    function_id=FunctionId(\"org.examples.ClusteringFunction\", 1), \n",
    "    stream_ids=[\"sp:spdatastream:xboBFK\"],\n",
    "    model=hoeffding_tree,\n",
    "    supervised=True,\n",
    "    target_label=\"temperature\",\n",
    "    on_event=draw_tree\n",
    ")\n",
    "regressor.start()"
   ]
  },
  {
   "cell_type": "code",
   "execution_count": null,
   "metadata": {},
   "outputs": [
    {
     "name": "stdout",
     "output_type": "stream",
     "text": [
      "{'mass_flow': 2.516627114228444, 'density': 45.24965930121421, 'volume_flow': 4.0280624308722395, 'sensor_fault_flags': False, 'temperature': 47.22745039785003, 'timestamp': 1674218139225, 'sensorId': 'flowrate02'}\n",
      "truth:      47.22745039785003\n",
      "prediction: 64.19019396258341\n"
     ]
    }
   ],
   "source": [
    "regressor.set_learning(False)"
   ]
  },
  {
   "cell_type": "code",
   "execution_count": null,
   "metadata": {},
   "outputs": [
    {
     "name": "stdout",
     "output_type": "stream",
     "text": [
      "2023-01-20 13:35:39,544 - streampipes_client.functions.broker.nats_broker - [INFO] - [nats_broker.py:70] [disconnect] - Stopped connection to stream: sp:spdatastream:xboBFK\n"
     ]
    }
   ],
   "source": [
    "regressor.stop()"
   ]
  },
  {
   "attachments": {},
   "cell_type": "markdown",
   "metadata": {},
   "source": [
    "## DecisionTreeClassifier"
   ]
  },
  {
   "cell_type": "code",
   "execution_count": 8,
   "metadata": {},
   "outputs": [
    {
     "name": "stderr",
     "output_type": "stream",
     "text": [
      "\r\n",
      "(dot.exe:18620): Pango-WARNING **: couldn't load font \"trebuchet Not-Rotated 11\", falling back to \"Sans Not-Rotated 11\", expect ugly output.\r\n"
     ]
    },
    {
     "name": "stdout",
     "output_type": "stream",
     "text": [
      "learning\n"
     ]
    }
   ],
   "source": [
    "from IPython.display import clear_output\n",
    "from river import cluster, compose, preprocessing, tree\n",
    "from streampipes_client.functions.machine_learning.river_function import OnlineMachineLearning\n",
    "from streampipes_client.functions.utils.function_config import FunctionId\n",
    "\n",
    "decision_tree = compose.Pipeline(\n",
    "    (\"drop_features\", compose.Discard(\"sensorId\", \"timestamp\")),\n",
    "    (\"decision_tree\",tree.ExtremelyFastDecisionTreeClassifier(grace_period=5))\n",
    ")\n",
    "\n",
    "def draw_tree(self, event, streamId):\n",
    "    clear_output(wait=True)\n",
    "    if self.learning:\n",
    "        if self.model[1].n_nodes != None:\n",
    "            self.model[1].draw().render(\"decicion_tree\", format=\"png\", cleanup=True)\n",
    "            print(\"learning\")\n",
    "    else:\n",
    "        print(event)\n",
    "        print(f\"truth: {event.pop(self.target_label)}\\nprediction: {self.model.predict_one(event)}\")\n",
    "\n",
    "classifier = OnlineMachineLearning(\n",
    "    client=client, \n",
    "    function_id=FunctionId(\"org.examples.ClusteringFunction\", 1), \n",
    "    stream_ids=[\"sp:spdatastream:xboBFK\"],\n",
    "    model=decision_tree,\n",
    "    supervised=True,\n",
    "    target_label=\"sensor_fault_flags\",\n",
    "    on_event=draw_tree\n",
    ")\n",
    "classifier.start()"
   ]
  },
  {
   "cell_type": "code",
   "execution_count": 9,
   "metadata": {},
   "outputs": [
    {
     "name": "stdout",
     "output_type": "stream",
     "text": [
      "{'mass_flow': 0.21865829117248803, 'density': 40.80435751473563, 'volume_flow': 8.254557377626961, 'sensor_fault_flags': True, 'temperature': 96.69380238830203, 'timestamp': 1674217347264, 'sensorId': 'flowrate02'}\n",
      "truth: True\n",
      "prediction: True\n"
     ]
    }
   ],
   "source": [
    "classifier.set_learning(False)"
   ]
  },
  {
   "cell_type": "code",
   "execution_count": 10,
   "metadata": {},
   "outputs": [
    {
     "name": "stdout",
     "output_type": "stream",
     "text": [
      "2023-01-20 13:22:27,992 - streampipes_client.functions.broker.nats_broker - [INFO] - [nats_broker.py:70] [disconnect] - Stopped connection to stream: sp:spdatastream:xboBFK\n"
     ]
    }
   ],
   "source": [
    "classifier.stop()"
   ]
  }
 ],
 "metadata": {
  "kernelspec": {
   "display_name": "Python 3",
   "language": "python",
   "name": "python3"
  },
  "language_info": {
   "codemirror_mode": {
    "name": "ipython",
    "version": 3
   },
   "file_extension": ".py",
   "mimetype": "text/x-python",
   "name": "python",
   "nbconvert_exporter": "python",
   "pygments_lexer": "ipython3",
   "version": "3.10.7"
  },
  "license": "https://www.apache.org/licenses/LICENSE-2.0",
  "orig_nbformat": 4,
  "vscode": {
   "interpreter": {
    "hash": "5b0c980f854fedc946bf92df903f8f9d5dc7805e8fffb7a1ceb21db6f8b983e3"
   }
  }
 },
 "nbformat": 4,
 "nbformat_minor": 2
}
